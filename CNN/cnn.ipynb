{
  "nbformat": 4,
  "nbformat_minor": 0,
  "metadata": {
    "colab": {
      "name": "Untitled0.ipynb",
      "provenance": []
    },
    "kernelspec": {
      "name": "python3",
      "display_name": "Python 3"
    },
    "accelerator": "GPU"
  },
  "cells": [
    {
      "cell_type": "code",
      "metadata": {
        "id": "1AX7IafhULeF",
        "colab_type": "code",
        "colab": {}
      },
      "source": [
        "import time\n",
        "import numpy as np\n",
        "import tensorflow as tf\n",
        "from tensorflow import keras\n",
        "from tensorflow.keras.preprocessing.image import ImageDataGenerator\n",
        "import matplotlib.pyplot as plt\n",
        "from tensorflow.keras.preprocessing import image\n",
        "from tensorflow.keras.layers import (Input, Activation, Conv2D, MaxPooling2D, Flatten,\n",
        "                                     Dense, Dropout, BatchNormalization, AveragePooling2D, ZeroPadding2D)\n",
        "from tensorflow.keras.models import Sequential, Model, load_model\n",
        "from tensorflow.keras.utils import plot_model\n",
        "from tensorflow.keras.optimizers import Adam\n",
        "from tensorflow.keras.utils import plot_model"
      ],
      "execution_count": 0,
      "outputs": []
    },
    {
      "cell_type": "code",
      "metadata": {
        "id": "UhC3uYoYUQEv",
        "colab_type": "code",
        "colab": {}
      },
      "source": [
        "def prepare_data(n_val=5000, n_trans=1):\n",
        "\n",
        "    # Load data\n",
        "    fashion_mnist = keras.datasets.fashion_mnist\n",
        "    (x_train, y_train), (x_test, y_test) = fashion_mnist.load_data()\n",
        "\n",
        "    # Shuffle\n",
        "    indexes = np.arange(x_train.shape[0])\n",
        "    indexes = np.random.permutation(indexes)\n",
        "    x_train = x_train[indexes]\n",
        "    y_train = y_train[indexes]\n",
        "\n",
        "    # Separate val data\n",
        "    x_val = x_train[:n_val]\n",
        "    y_val = y_train[:n_val]\n",
        "    x_train = x_train[n_val:]\n",
        "    y_train = y_train[n_val:]\n",
        "\n",
        "    # Normalize\n",
        "    x_train = x_train.astype('float32') / 255.0\n",
        "    x_val = x_val.astype('float32') / 255.0\n",
        "    x_test = x_test.astype('float32') / 255.0\n",
        "\n",
        "    # Reshape\n",
        "    x_train = np.reshape(x_train, (x_train.shape[0], 28, 28, 1))\n",
        "    x_val = np.reshape(x_val, (x_val.shape[0], 28, 28, 1))\n",
        "    x_test = np.reshape(x_test, (x_test.shape[0], 28, 28, 1))\n",
        "\n",
        "    # Transform images\n",
        "    datagen = ImageDataGenerator(rotation_range=8, \n",
        "                                 width_shift_range=0.08,\n",
        "                                 shear_range=0.3,\n",
        "                                 height_shift_range=0.08,\n",
        "                                 zoom_range=0.08,\n",
        "                                 preprocessing_function=get_random_eraser(v_l=0, v_h=1, pixel_level=True)\n",
        "                                 )\n",
        "    datagen.fit(x_train)\n",
        "  \n",
        "\n",
        "    x_trans, y_trans = datagen.flow(x_train[:n_trans], y_train[:n_trans], batch_size=n_trans)[0]\n",
        "\n",
        "    x_train = np.concatenate([x_train[:], x_trans], axis=0)\n",
        "    y_train = np.concatenate([y_train[:], y_trans], axis=0)\n",
        "\n",
        "     # Shuffle 2\n",
        "    indexes = np.arange(x_train.shape[0])\n",
        "    indexes = np.random.permutation(indexes)\n",
        "    x_train = x_train[indexes]\n",
        "    y_train = y_train[indexes]\n",
        "\n",
        "    return (x_train, y_train), (x_val, y_val), (x_test, y_test)"
      ],
      "execution_count": 0,
      "outputs": []
    },
    {
      "cell_type": "code",
      "metadata": {
        "id": "Bn53S_USGKOT",
        "colab_type": "code",
        "colab": {}
      },
      "source": [
        "def get_model(layers, start_filters, initializer, dropout):\n",
        "      model = Sequential()\n",
        "      model.add(Input(shape=(28,28,1)))\n",
        "\n",
        "      filters = start_filters\n",
        "\n",
        "      for i in range(layers):\n",
        "          model.add(Conv2D(filters, (3, 3), padding=\"same\", kernel_initializer=initializer))\n",
        "          model.add(BatchNormalization())\n",
        "          model.add(Activation(\"relu\"))\n",
        "         \n",
        "\n",
        "          model.add(Conv2D(filters, (3, 3), padding=\"same\", kernel_initializer=initializer))\n",
        "          model.add(BatchNormalization())\n",
        "          model.add(Activation(\"relu\"))\n",
        "\n",
        "          model.add(MaxPooling2D(pool_size=(2, 2)))\n",
        "          model.add(Dropout(dropout))\n",
        "\n",
        "          filters = filters * 2\n",
        "\n",
        "\n",
        "      model.add(Flatten())\n",
        "      model.add(Dense(filters * 4))\n",
        "      model.add(BatchNormalization())\n",
        "      model.add(Activation(\"relu\"))\n",
        "      model.add(Dropout(0.5))\n",
        "\n",
        "      model.add(Dense(10))\n",
        "      model.add(Activation(\"softmax\"))\n",
        "\n",
        "      adam = tf.keras.optimizers.Adam()\n",
        "      model.compile(optimizer=adam,\n",
        "                    loss='sparse_categorical_crossentropy',\n",
        "                    metrics=['accuracy'])\n",
        "      \n",
        "      plot_model(model, show_shapes=True, to_file='model.png')\n",
        "      \n",
        "      return model"
      ],
      "execution_count": 0,
      "outputs": []
    },
    {
      "cell_type": "code",
      "metadata": {
        "id": "BpH0NH3Zckrk",
        "colab_type": "code",
        "colab": {}
      },
      "source": [
        "def show_image(img):\n",
        "    plt.imshow(image.array_to_img(img), cmap='gray', interpolation='nearest')\n",
        "    plt.show()"
      ],
      "execution_count": 0,
      "outputs": []
    },
    {
      "cell_type": "code",
      "metadata": {
        "id": "H8ydVB05Uh29",
        "colab_type": "code",
        "colab": {}
      },
      "source": [
        "def main():\n",
        "    n_epochs = 2\n",
        "    batch_size = 256\n",
        "    (x_train, y_train), (x_val, y_val), (x_test, y_test) = prepare_data(6000, 60000)\n",
        "\n",
        "    model = get_model(3, 64, 'he_normal', 0.25)\n",
        "\n",
        "    history = model.fit(x_train, y_train,\n",
        "              batch_size=batch_size,\n",
        "              epochs=n_epochs,\n",
        "              validation_data=(x_val, y_val))\n",
        "\n",
        "    # summarize history for accuracy\n",
        "    plt.plot(history.history['accuracy'])\n",
        "    plt.plot(history.history['val_accuracy'])\n",
        "    plt.title('model accuracy')\n",
        "    plt.ylabel('accuracy')\n",
        "    plt.xlabel('epoch')\n",
        "    plt.legend(['train', 'val'], loc='upper left')\n",
        "    plt.show()\n",
        "    # summarize history for loss\n",
        "    plt.plot(history.history['loss'])\n",
        "    plt.plot(history.history['val_loss'])\n",
        "    plt.title('model loss')\n",
        "    plt.ylabel('loss')\n",
        "    plt.xlabel('epoch')\n",
        "    plt.legend(['train', 'val'], loc='upper left')\n",
        "    plt.show()\n",
        "\n",
        "    model.save('model')\n",
        "    model.save_weights(\"model.h5\")\n",
        "    \n",
        "    score = model.evaluate(x_test, y_test, verbose=0)\n",
        "    print('Test loss: {}'.format(score[0]))\n",
        "    print('Test accuracy: {}'.format(score[1]))\n",
        "\n"
      ],
      "execution_count": 0,
      "outputs": []
    },
    {
      "cell_type": "code",
      "metadata": {
        "id": "BIwYqVI585PT",
        "colab_type": "code",
        "colab": {}
      },
      "source": [
        "def load_ready():\n",
        "    (x_train, y_train), (x_val, y_val), (x_test, y_test) = prepare_data(6000, 1)\n",
        "   \n",
        "    model = get_model(3, 64, 'he_normal', 0.25)\n",
        "    model.load_weights('model.h5')\n",
        "\n",
        "    score = model.evaluate(x_test, y_test, verbose=0)\n",
        "    print('Test loss: {}'.format(score[0]))\n",
        "    print('Test accuracy: {}'.format(score[1]))\n",
        "\n"
      ],
      "execution_count": 0,
      "outputs": []
    },
    {
      "cell_type": "code",
      "metadata": {
        "id": "vg8Uao7abNuO",
        "colab_type": "code",
        "colab": {}
      },
      "source": [
        "def get_random_eraser(p=0.5, s_l=0.02, s_h=0.4, r_1=0.3, r_2=1/0.3, v_l=0, v_h=255, pixel_level=False):\n",
        "    def eraser(input_img):\n",
        "        img_h, img_w, img_c = input_img.shape\n",
        "        p_1 = np.random.rand()\n",
        "\n",
        "        if p_1 > p:\n",
        "            return input_img\n",
        "\n",
        "        while True:\n",
        "            s = np.random.uniform(s_l, s_h) * img_h * img_w\n",
        "            r = np.random.uniform(r_1, r_2)\n",
        "            w = int(np.sqrt(s / r))\n",
        "            h = int(np.sqrt(s * r))\n",
        "            left = np.random.randint(0, img_w)\n",
        "            top = np.random.randint(0, img_h)\n",
        "\n",
        "            if left + w <= img_w and top + h <= img_h:\n",
        "                break\n",
        "\n",
        "        if pixel_level:\n",
        "            c = np.random.uniform(v_l, v_h, (h, w, img_c))\n",
        "        else:\n",
        "            c = np.random.uniform(v_l, v_h)\n",
        "\n",
        "        input_img[top:top + h, left:left + w, :] = c\n",
        "\n",
        "        return input_img\n",
        "\n",
        "    return eraser"
      ],
      "execution_count": 0,
      "outputs": []
    },
    {
      "cell_type": "code",
      "metadata": {
        "id": "BXMNWT6g9bzE",
        "colab_type": "code",
        "colab": {}
      },
      "source": [
        "load_ready()\n",
        "#main()"
      ],
      "execution_count": 0,
      "outputs": []
    },
    {
      "cell_type": "code",
      "metadata": {
        "id": "j0E6qwvNUnqi",
        "colab_type": "code",
        "colab": {}
      },
      "source": [
        ""
      ],
      "execution_count": 0,
      "outputs": []
    }
  ]
}