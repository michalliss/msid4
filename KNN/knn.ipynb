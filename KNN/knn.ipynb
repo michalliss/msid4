{
  "nbformat": 4,
  "nbformat_minor": 0,
  "metadata": {
    "colab": {
      "name": "knn.ipynb",
      "provenance": [],
      "collapsed_sections": []
    },
    "kernelspec": {
      "name": "python3",
      "display_name": "Python 3"
    },
    "accelerator": "GPU"
  },
  "cells": [
    {
      "cell_type": "code",
      "metadata": {
        "id": "ZXGjEESRDV_L",
        "colab_type": "code",
        "colab": {}
      },
      "source": [
        "import numpy as np\n",
        "import cupy as cp\n",
        "from tensorflow import keras\n",
        "\n",
        "def distance(X, X_train):\n",
        "    X = cp.asarray(X)\n",
        "    X_train = cp.asarray(X_train)\n",
        "    return cp.asnumpy(-2 * cp.dot(X, X_train.T) + cp.sum(X_train**2, axis=1) + cp.sum(X**2, axis=1)[:, cp.newaxis])\n",
        "\n",
        "\n",
        "def sort_train_labels_knn(Dist, y):\n",
        "    N1, N2 = Dist.shape\n",
        "    temp = cp.asnumpy(cp.argsort(Dist))\n",
        "    Dist = Dist.astype('uint8')\n",
        "    for i in range(N1):\n",
        "        Dist[i] = y[temp[i]]\n",
        "    return Dist\n",
        "\n",
        "\n",
        "def p_y_x_knn(y, k):\n",
        "    N1, N2 = y.shape\n",
        "    M = int(y.max())\n",
        "    res = np.empty(shape=(N1, M + 1))\n",
        "    for i in range(N1):\n",
        "        res[i] = np.bincount((y[i][:k]).astype(int), weights=None, minlength=(M + 1)) / k\n",
        "    return res\n",
        "\n",
        "\n",
        "def classification_error(p_y_x, y_true):\n",
        "    N, M = p_y_x.shape\n",
        "\n",
        "    res = 0\n",
        "    for x in range(N):\n",
        "        max = len(p_y_x[x]) - np.argmax(p_y_x[x][::-1]) - 1\n",
        "        if max != y_true[x]:\n",
        "            res += 1\n",
        "\n",
        "    return res / N\n",
        "\n",
        "def test_model(X_val, X_train, y_val, y_train, k_value):\n",
        "    hm = distance(X_val, X_train)\n",
        "    srt = sort_train_labels_knn(hm, y_train)\n",
        "  \n",
        "    error = classification_error(p_y_x_knn(srt, k_value), y_val)\n",
        "    return error\n"
      ],
      "execution_count": 0,
      "outputs": []
    },
    {
      "cell_type": "code",
      "metadata": {
        "id": "tYkAcWmqDfyN",
        "colab_type": "code",
        "colab": {}
      },
      "source": [
        "def load_data():\n",
        "    fashion_mnist = keras.datasets.fashion_mnist\n",
        "    (x_train, y_train), (x_test, y_test) = fashion_mnist.load_data()\n",
        "\n",
        "    return x_train, y_train, x_test, y_test\n",
        "\n",
        "def main():\n",
        "    x_train, y_train, x_test, y_test = load_data()\n",
        "    n_train = 60000\n",
        "    n_test = 10000\n",
        "    k_val = 5\n",
        "\n",
        "    x_train = (np.array(x_train[:n_train]) / 255.0).reshape(-1, 784).astype('float32')\n",
        "    y_train = np.array(y_train[:n_train]).astype('uint8')\n",
        "    x_test = (np.array(x_test[:n_test]) / 255.0).reshape(-1, 784).astype('float32')\n",
        "    y_test = np.array(y_test[:n_test]).astype('uint8')\n",
        "\n",
        "    err = test_model(x_test, x_train, y_test, y_train, k_val)\n",
        "    print(\"Error: \" + str(err))\n",
        "    print(\"Correct: \" + str((1 - err)*100) + \"%\")\n"
      ],
      "execution_count": 0,
      "outputs": []
    },
    {
      "cell_type": "code",
      "metadata": {
        "id": "5GVvINrK0vpM",
        "colab_type": "code",
        "outputId": "0b3f8283-f1d4-4b00-92d0-4d560e162231",
        "colab": {
          "base_uri": "https://localhost:8080/",
          "height": 53
        }
      },
      "source": [
        "main()"
      ],
      "execution_count": 3,
      "outputs": [
        {
          "output_type": "stream",
          "text": [
            "Error: 0.1484\n",
            "Correct: 85.16%\n"
          ],
          "name": "stdout"
        }
      ]
    }
  ]
}